{
 "cells": [
  {
   "cell_type": "code",
   "execution_count": null,
   "id": "abd77490-194a-4056-824c-f7e611760b94",
   "metadata": {},
   "outputs": [],
   "source": []
  },
  {
   "cell_type": "code",
   "execution_count": 21,
   "id": "5084fb81-7895-4b1b-8f18-251172274deb",
   "metadata": {},
   "outputs": [
    {
     "name": "stdout",
     "output_type": "stream",
     "text": [
      "100 fake users generated and saved to C:\\Users\\Ayrahali\\Downloads\\SmartAssign.users.json\n"
     ]
    }
   ],
   "source": [
    "import json\n",
    "import uuid\n",
    "import random\n",
    "from datetime import datetime, timedelta\n",
    "\n",
    "roles = [\"SUPERADMIN\", \"ADMIN\", \"DEVLOPER\", \"PROJECT_MANAGER\"]\n",
    "skills_pool = [\"HR\", \"SAE\", \"JAVA\", \"PYTHON\", \"R\", \"SPRING\", \"HTML\", \"CSS\", \"JAVASCRIPT\"]\n",
    "\n",
    "def generate_user():\n",
    "    try:\n",
    "        _id = {\"$oid\": str(uuid.uuid4())}\n",
    "        email = f\"user_{random.randint(1000, 9999)}@example.com\"\n",
    "        password = \"password123\"  # You can generate random passwords if needed\n",
    "        roles_assigned = random.sample(roles, k=random.randint(1, len(roles)))\n",
    "        two_factor_auth_enabled = random.choice([True, False])\n",
    "        enabled = True\n",
    "        ban = False\n",
    "        remember_me = False\n",
    "        created_at = datetime.now() - timedelta(days=random.randint(1, 365))\n",
    "        last_login = created_at + timedelta(days=random.randint(1, 30))\n",
    "        last_logout = last_login + timedelta(hours=random.randint(1, 12))\n",
    "        birth_date = datetime.now() - timedelta(days=random.randint(6570, 29200))\n",
    "        profile = {\n",
    "            \"name\": f\"User{random.randint(1, 100)}\",\n",
    "            \"lastname\": f\"LastName{random.randint(1, 100)}\",\n",
    "            \"profileImage\": f\"upload\\\\{email}\\\\profile-image\\\\{str(uuid.uuid4())}.png\",\n",
    "            \"birthDate\": {\"$date\": birth_date.isoformat() + \"Z\"},\n",
    "            \"title\": random.choice(roles),\n",
    "            \"bio\": \"Lorem ipsum dolor sit amet, consectetur adipiscing elit.\",\n",
    "            \"skills\": random.sample(skills_pool, k=random.randint(1, 5))\n",
    "        }\n",
    "        user = {\n",
    "            \"_id\": _id,\n",
    "            \"email\": email,\n",
    "            \"password\": password,\n",
    "            \"roles\": roles_assigned,\n",
    "            \"security\": {\n",
    "                \"twoFactorAuthEnabled\": two_factor_auth_enabled,\n",
    "                \"enabled\": enabled,\n",
    "                \"ban\": ban,\n",
    "                \"rememberMe\": remember_me\n",
    "            },\n",
    "            \"activity\": {\n",
    "                \"CreatedAt\": {\"$date\": created_at.isoformat() + \"Z\"},\n",
    "                \"lastLogin\": {\"$date\": last_login.isoformat() + \"Z\"},\n",
    "                \"lastLogout\": {\"$date\": last_logout.isoformat() + \"Z\"}\n",
    "            },\n",
    "            \"profile\": profile,\n",
    "            \"_class\": \"org.example.SmartAssign.models.User\"\n",
    "        }\n",
    "        return user\n",
    "    except Exception as e:\n",
    "        print(f\"Error generating user: {e}\")\n",
    "        return None\n",
    "\n",
    "users = []\n",
    "for _ in range(100):\n",
    "    user = generate_user()\n",
    "    if user:\n",
    "        users.append(user)\n",
    "\n",
    "output_file = r'C:\\Users\\Ayrahali\\Downloads\\SmartAssign.users.json'\n",
    "with open(output_file, 'w') as f:\n",
    "    json.dump(users, f, indent=2)\n",
    "\n",
    "print(f\"100 fake users generated and saved to {output_file}\")\n"
   ]
  },
  {
   "cell_type": "code",
   "execution_count": 23,
   "id": "3b8a1beb-066a-4fe5-b200-392ee5465222",
   "metadata": {},
   "outputs": [
    {
     "name": "stdout",
     "output_type": "stream",
     "text": [
      "Employee: User55 LastName45, Match Score: 3\n",
      "Skills: ['HR', 'CSS', 'HTML', 'PYTHON', 'JAVA']\n",
      "\n",
      "Employee: User41 LastName90, Match Score: 3\n",
      "Skills: ['HTML', 'SAE', 'JAVASCRIPT', 'JAVA', 'PYTHON']\n",
      "\n",
      "Employee: User37 LastName4, Match Score: 2\n",
      "Skills: ['HTML', 'HR', 'JAVA', 'JAVASCRIPT', 'SPRING']\n",
      "\n",
      "Employee: User34 LastName50, Match Score: 2\n",
      "Skills: ['HTML', 'HR', 'JAVA', 'SAE', 'JAVASCRIPT']\n",
      "\n",
      "Employee: User40 LastName46, Match Score: 2\n",
      "Skills: ['PYTHON', 'HTML', 'SPRING']\n",
      "\n"
     ]
    }
   ],
   "source": [
    "import json\n",
    "\n",
    "# Load employee data from the generated JSON file\n",
    "with open(r'C:\\Users\\Ayrahali\\Downloads\\SmartAssign.users.json', 'r') as f:\n",
    "    employees = json.load(f)\n",
    "\n",
    "def calculate_match_score(employee_skills, desired_skills):\n",
    "    return len(set(employee_skills) & set(desired_skills))\n",
    "\n",
    "def recommend_employees(desired_skills, employees, top_n=5):\n",
    "    recommendations = []\n",
    "\n",
    "    for employee in employees:\n",
    "        profile = employee['profile']\n",
    "        employee_skills = profile['skills']\n",
    "        match_score = calculate_match_score(employee_skills, desired_skills)\n",
    "        recommendations.append((employee, match_score))\n",
    "\n",
    "    recommendations.sort(key=lambda x: x[1], reverse=True)\n",
    "    return recommendations[:top_n]\n",
    "\n",
    "# Define the desired skills for the recommendation\n",
    "desired_skills = [\"PYTHON\", \"JAVA\", \"HTML\"]\n",
    "\n",
    "# Get top 5 recommended employees\n",
    "top_recommendations = recommend_employees(desired_skills, employees, top_n=5)\n",
    "\n",
    "# Print the recommended employees\n",
    "for employee, score in top_recommendations:\n",
    "    print(f\"Employee name : {employee['profile']['name']} {employee['profile']['lastname']}, Match Score: {score}\")\n",
    "    print(f\"Skills: {employee['profile']['skills']}\")\n",
    "    print()\n"
   ]
  },
  {
   "cell_type": "code",
   "execution_count": null,
   "id": "bc5db057-7a80-43a6-a730-48fab0308fc8",
   "metadata": {},
   "outputs": [],
   "source": []
  }
 ],
 "metadata": {
  "kernelspec": {
   "display_name": "Python 3 (ipykernel)",
   "language": "python",
   "name": "python3"
  },
  "language_info": {
   "codemirror_mode": {
    "name": "ipython",
    "version": 3
   },
   "file_extension": ".py",
   "mimetype": "text/x-python",
   "name": "python",
   "nbconvert_exporter": "python",
   "pygments_lexer": "ipython3",
   "version": "3.12.4"
  }
 },
 "nbformat": 4,
 "nbformat_minor": 5
}
